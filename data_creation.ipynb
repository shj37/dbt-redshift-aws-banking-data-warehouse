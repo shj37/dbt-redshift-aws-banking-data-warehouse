{
 "cells": [
  {
   "cell_type": "code",
   "execution_count": 11,
   "metadata": {},
   "outputs": [],
   "source": [
    "import csv\n",
    "import random\n",
    "from faker import Faker\n",
    "from datetime import datetime, timedelta\n",
    "\n",
    "# Initialize Faker\n",
    "fake = Faker()\n",
    "\n",
    "# Helper function to write data to CSV with '|' delimiter\n",
    "def write_csv(filename, header, rows):\n",
    "    with open(filename, 'w', newline='') as file:\n",
    "        writer = csv.writer(file, delimiter='|')\n",
    "        writer.writerow(header)\n",
    "        writer.writerows(rows)"
   ]
  },
  {
   "cell_type": "code",
   "execution_count": 12,
   "metadata": {},
   "outputs": [],
   "source": [
    "# 1. DimCustomer: 8 customers\n",
    "customers = []\n",
    "for i in range(1, 9):\n",
    "    customers.append([\n",
    "        i,  # customer_id\n",
    "        fake.first_name(),\n",
    "        fake.last_name(),\n",
    "        fake.email(),\n",
    "        fake.address().replace('\\n', ', '),\n",
    "        fake.city(),\n",
    "        fake.state(),\n",
    "        fake.postcode(),\n",
    "        fake.phone_number()\n",
    "    ])\n",
    "write_csv('./data/dim_customers.csv', [\n",
    "    'customer_id', 'first_name', 'last_name', 'email', 'address',\n",
    "    'city', 'state', 'postal_code', 'phone_number'\n",
    "], customers)"
   ]
  },
  {
   "cell_type": "code",
   "execution_count": 13,
   "metadata": {},
   "outputs": [],
   "source": [
    "# 2. DimAccount: 12 accounts\n",
    "accounts = []\n",
    "account_id = 1\n",
    "for cust_id in range(1, 9):\n",
    "    num_accounts = 2 if cust_id <= 4 else 1  # Customers 1-4 have 2 accounts, 5-8 have 1\n",
    "    for _ in range(num_accounts):\n",
    "        accounts.append([\n",
    "            account_id,\n",
    "            fake.bban(),  # account_number\n",
    "            cust_id,  # customer_id\n",
    "            random.choice(['Checking', 'Savings']),\n",
    "            round(random.uniform(100, 10000), 2),  # account_balance\n",
    "            random.randint(300, 850)  # credit_score\n",
    "        ])\n",
    "        account_id += 1\n",
    "write_csv('./data/dim_accounts.csv', [\n",
    "    'account_id', 'account_number', 'customer_id', 'account_type',\n",
    "    'account_balance', 'credit_score'\n",
    "], accounts)"
   ]
  },
  {
   "cell_type": "code",
   "execution_count": 15,
   "metadata": {},
   "outputs": [],
   "source": [
    "# 3. DimDate: 10 dates from 2023-01-01 to 2023-01-10\n",
    "dates = []\n",
    "start_date = datetime(2023, 1, 1)\n",
    "for i in range(10):\n",
    "    date = start_date + timedelta(days=i)\n",
    "    dates.append([\n",
    "        i + 1,  # date_id\n",
    "        date.strftime('%Y-%m-%d'),\n",
    "        date.day,\n",
    "        date.month,\n",
    "        date.year,\n",
    "        (date.month - 1) // 3 + 1,  # quarter (1 for January)\n",
    "        date.strftime('%A')  # weekday\n",
    "    ])\n",
    "write_csv('./data/dim_dates.csv', [\n",
    "    'date_id', 'date', 'day', 'month', 'year', 'quarter', 'weekday'\n",
    "], dates)\n",
    "\n"
   ]
  },
  {
   "cell_type": "code",
   "execution_count": 16,
   "metadata": {},
   "outputs": [],
   "source": [
    "# 4. DimChannel: 3 channels\n",
    "channels = [\n",
    "    [1, 'Online'],\n",
    "    [2, 'In-Branch'],\n",
    "    [3, 'ATM']\n",
    "]\n",
    "write_csv('./data/dim_channels.csv', \n",
    "          ['channel_id', 'channel_name'], channels)"
   ]
  },
  {
   "cell_type": "code",
   "execution_count": 17,
   "metadata": {},
   "outputs": [],
   "source": [
    "# 5. DimLoan: 5 loans\n",
    "loans = []\n",
    "for i in range(1, 6):\n",
    "    loans.append([\n",
    "        i,\n",
    "        random.choice(['Mortgage', 'Auto', 'Personal', 'Student', 'Business']),\n",
    "        round(random.uniform(1000, 100000), 2),  # loan_amount\n",
    "        round(random.uniform(1.0, 10.0), 2)  # interest_rate\n",
    "    ])\n",
    "write_csv('./data/dim_loans.csv', [\n",
    "    'loan_id', 'loan_type', 'loan_amount', 'interest_rate'\n",
    "], loans)"
   ]
  },
  {
   "cell_type": "code",
   "execution_count": 18,
   "metadata": {},
   "outputs": [],
   "source": [
    "# 6. DimTransactionType: 4 transaction types\n",
    "txn_types = [\n",
    "    [1, 'Deposit'],\n",
    "    [2, 'Withdrawal'],\n",
    "    [3, 'Transfer'],\n",
    "    [4, 'Payment']\n",
    "]\n",
    "write_csv('./data/dim_transaction_types.csv', [\n",
    "    'transaction_type_id', 'description'\n",
    "], txn_types)"
   ]
  },
  {
   "cell_type": "code",
   "execution_count": 19,
   "metadata": {},
   "outputs": [],
   "source": [
    "# 7. DimLocation: 3 locations\n",
    "locations = [\n",
    "    [1, '123 Main St', 'New York', 'NY', 'USA'],\n",
    "    [2, '456 Oak Ave', 'Los Angeles', 'CA', 'USA'],\n",
    "    [3, '789 Pine Rd', 'Chicago', 'IL', 'USA']\n",
    "]\n",
    "write_csv('./data/dim_locations.csv', [\n",
    "    'location_id', 'address', 'city', 'state', 'country'\n",
    "], locations)"
   ]
  },
  {
   "cell_type": "code",
   "execution_count": 20,
   "metadata": {},
   "outputs": [],
   "source": [
    "# 8. DimCurrency: 3 currencies\n",
    "currencies = [\n",
    "    [1, 'USD', 'USD', True],\n",
    "    [2, 'EUR', 'EUR', True],\n",
    "    [3, 'GBP', 'GBP', True]\n",
    "]\n",
    "write_csv('./data/dim_currencies.csv', [\n",
    "    'currency_id', 'name', 'iso3_code', 'active'\n",
    "], currencies)"
   ]
  },
  {
   "cell_type": "code",
   "execution_count": 21,
   "metadata": {},
   "outputs": [],
   "source": [
    "# 9. DimInvestmentType: 3 investment types\n",
    "inv_types = [\n",
    "    [1, 'Stocks'],\n",
    "    [2, 'Bonds'],\n",
    "    [3, 'Mutual Funds']\n",
    "]\n",
    "write_csv('./data/dim_investment_types.csv', [\n",
    "    'investment_type_id', 'investment_type_name'\n",
    "], inv_types)"
   ]
  },
  {
   "cell_type": "code",
   "execution_count": 22,
   "metadata": {},
   "outputs": [],
   "source": [
    "# 10. FactTransactions: 30 transactions\n",
    "transactions = []\n",
    "for i in range(1, 31):\n",
    "    customer_id = random.randint(1, 8)\n",
    "    # Select an account_id that belongs to this customer\n",
    "    account_ids = [acc[0] for acc in accounts if acc[2] == customer_id]\n",
    "    account_id = random.choice(account_ids)\n",
    "    date_id = random.randint(1, 10)\n",
    "    channel_id = random.randint(1, 3)\n",
    "    txn_type_id = random.randint(1, 4)\n",
    "    location_id = random.randint(1, 3)\n",
    "    currency_id = random.randint(1, 3)\n",
    "    # Assign loan_id or investment_type_id for some transactions\n",
    "    if i <= 10:\n",
    "        loan_id = random.randint(1, 5)\n",
    "        investment_type_id = None\n",
    "    elif i <= 20:\n",
    "        loan_id = None\n",
    "        investment_type_id = random.randint(1, 3)\n",
    "    else:\n",
    "        loan_id = None\n",
    "        investment_type_id = None\n",
    "    txn_amount = round(random.uniform(10, 1000), 2)\n",
    "    txn_status = 'Completed'\n",
    "    transactions.append([\n",
    "        i, customer_id, date_id, channel_id, account_id, txn_type_id,\n",
    "        location_id, currency_id, loan_id, investment_type_id, txn_amount, txn_status\n",
    "    ])\n",
    "write_csv('./data/fact_transactions.csv', [\n",
    "    'transaction_id', 'customer_id', 'date_id', 'channel_id', 'account_id',\n",
    "    'txn_type_id', 'location_id', 'currency_id', 'loan_id', 'investment_type_id',\n",
    "    'txn_amount', 'txn_status'\n",
    "], transactions)"
   ]
  },
  {
   "cell_type": "code",
   "execution_count": 23,
   "metadata": {},
   "outputs": [],
   "source": [
    "# 11. FactDailyBalances: 20 daily balances\n",
    "daily_balances = []\n",
    "used_pairs = set()\n",
    "while len(daily_balances) < 20:\n",
    "    account_id = random.randint(1, 12)\n",
    "    date_id = random.randint(1, 10)\n",
    "    pair = (account_id, date_id)\n",
    "    if pair not in used_pairs:  # Ensure unique account-date pairs\n",
    "        used_pairs.add(pair)\n",
    "        balance = round(random.uniform(100, 10000), 2)\n",
    "        daily_balances.append([\n",
    "            len(daily_balances) + 1, date_id, account_id, balance, balance, balance\n",
    "        ])\n",
    "write_csv('./data/fact_daily_balances.csv', [\n",
    "    'balance_id', 'date_id', 'account_id', 'opening_balance',\n",
    "    'closing_balance', 'average_balance'\n",
    "], daily_balances)"
   ]
  },
  {
   "cell_type": "code",
   "execution_count": 24,
   "metadata": {},
   "outputs": [],
   "source": [
    "# 12. FactCustomerInteractions: 15 interactions\n",
    "interactions = []\n",
    "for cust_id in range(1, 9):\n",
    "    num_interactions = random.choice([1, 2])\n",
    "    dates_used = set()\n",
    "    for _ in range(num_interactions):\n",
    "        date_id = random.randint(1, 10)\n",
    "        if date_id not in dates_used:  # Avoid duplicate dates for same customer\n",
    "            dates_used.add(date_id)\n",
    "            interactions.append([\n",
    "                len(interactions) + 1, date_id, cust_id, random.randint(1, 3),\n",
    "                random.choice(['Call', 'Email', 'Chat']), random.randint(1, 5)\n",
    "            ])\n",
    "write_csv('./data/fact_customer_interactions.csv', [\n",
    "    'interaction_id', 'date_id', 'customer_id', 'channel_id',\n",
    "    'interaction_type', 'interaction_rating'\n",
    "], interactions[:15])  # Limit to 15"
   ]
  },
  {
   "cell_type": "code",
   "execution_count": 25,
   "metadata": {},
   "outputs": [],
   "source": [
    "# 13. FactLoanPayments: 10 payments (2 per loan)\n",
    "loan_payments = []\n",
    "for loan_id in range(1, 6):\n",
    "    customer_id = loan_id  # Assign loan_id 1 to customer 1, etc., for simplicity\n",
    "    for _ in range(2):\n",
    "        date_id = random.randint(1, 10)\n",
    "        payment_amount = round(random.uniform(100, 1000), 2)\n",
    "        payment_status = 'Paid'\n",
    "        loan_payments.append([\n",
    "            len(loan_payments) + 1, date_id, loan_id, customer_id,\n",
    "            payment_amount, payment_status\n",
    "        ])\n",
    "write_csv('./data/fact_loan_payments.csv', [\n",
    "    'payment_id', 'date_id', 'loan_id', 'customer_id',\n",
    "    'payment_amount', 'payment_status'\n",
    "], loan_payments)"
   ]
  },
  {
   "cell_type": "code",
   "execution_count": 27,
   "metadata": {},
   "outputs": [],
   "source": [
    "# 14. FactInvestments: 8 investments\n",
    "investments = []\n",
    "for inv_type in [[1, 3], [2, 3], [3, 2]]:  # 3 for type 1, 3 for type 2, 2 for type 3\n",
    "    inv_type_id, count = inv_type\n",
    "    for _ in range(count):\n",
    "        investments.append([\n",
    "            len(investments) + 1, random.randint(1, 10), inv_type_id,\n",
    "            random.randint(1, 12), round(random.uniform(1000, 10000), 2),\n",
    "            round(random.uniform(20, 900), 2),\n",
    "        ])\n",
    "write_csv('./data/fact_investments.csv', [\n",
    "    'investment_id', 'date_id', 'investment_type_id', 'account_id', 'amount_invested', 'investment_return'\n",
    "], investments)"
   ]
  },
  {
   "cell_type": "code",
   "execution_count": null,
   "metadata": {},
   "outputs": [],
   "source": []
  }
 ],
 "metadata": {
  "kernelspec": {
   "display_name": "Python 3",
   "language": "python",
   "name": "python3"
  },
  "language_info": {
   "codemirror_mode": {
    "name": "ipython",
    "version": 3
   },
   "file_extension": ".py",
   "mimetype": "text/x-python",
   "name": "python",
   "nbconvert_exporter": "python",
   "pygments_lexer": "ipython3",
   "version": "3.10.8"
  }
 },
 "nbformat": 4,
 "nbformat_minor": 2
}
